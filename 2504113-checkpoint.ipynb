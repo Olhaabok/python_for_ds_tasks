{
 "cells": [
  {
   "cell_type": "code",
   "execution_count": 1,
   "id": "95f95da9",
   "metadata": {},
   "outputs": [],
   "source": [
    "# Основи роботи з рядками та математичні операції"
   ]
  },
  {
   "cell_type": "code",
   "execution_count": 2,
   "id": "af70baa1",
   "metadata": {},
   "outputs": [
    {
     "data": {
      "text/plain": [
       "85.8731343283582"
      ]
     },
     "execution_count": 2,
     "metadata": {},
     "output_type": "execute_result"
    }
   ],
   "source": [
    "a = 101\n",
    "b = 210\n",
    "c = 111\n",
    "d = 402\n",
    "\n",
    "(a+b)*c/d"
   ]
  },
  {
   "cell_type": "code",
   "execution_count": 8,
   "id": "f452048b",
   "metadata": {},
   "outputs": [],
   "source": [
    "a = 11283\n",
    "b = 89\n",
    "c = a % b"
   ]
  },
  {
   "cell_type": "code",
   "execution_count": 7,
   "id": "f23b01a0",
   "metadata": {},
   "outputs": [
    {
     "name": "stdout",
     "output_type": "stream",
     "text": [
      "69\n"
     ]
    }
   ],
   "source": [
    "print (c)"
   ]
  },
  {
   "cell_type": "code",
   "execution_count": 9,
   "id": "69b11745",
   "metadata": {},
   "outputs": [],
   "source": [
    "d = a // b"
   ]
  },
  {
   "cell_type": "code",
   "execution_count": 10,
   "id": "16f092d1",
   "metadata": {},
   "outputs": [
    {
     "name": "stdout",
     "output_type": "stream",
     "text": [
      "126\n"
     ]
    }
   ],
   "source": [
    "print (d)"
   ]
  },
  {
   "cell_type": "code",
   "execution_count": 17,
   "id": "883fd6d5",
   "metadata": {},
   "outputs": [],
   "source": [
    "name = 'Ольга'\n",
    "surname = 'Кухтин'\n",
    "name_surname = name + ' ' + surname"
   ]
  },
  {
   "cell_type": "code",
   "execution_count": 25,
   "id": "4e0d1242",
   "metadata": {},
   "outputs": [
    {
     "name": "stdout",
     "output_type": "stream",
     "text": [
      "Ольга Кухтин\n"
     ]
    }
   ],
   "source": [
    "print (name_surname)"
   ]
  },
  {
   "cell_type": "code",
   "execution_count": 26,
   "id": "86dae27e",
   "metadata": {},
   "outputs": [
    {
     "name": "stdout",
     "output_type": "stream",
     "text": [
      "ОЛЬГА КУХТИН\n"
     ]
    }
   ],
   "source": [
    "print (name_surname.upper())"
   ]
  },
  {
   "cell_type": "code",
   "execution_count": 27,
   "id": "19174ee7",
   "metadata": {},
   "outputs": [
    {
     "data": {
      "text/plain": [
       "'ь'"
      ]
     },
     "execution_count": 27,
     "metadata": {},
     "output_type": "execute_result"
    }
   ],
   "source": [
    "name_surname [2]"
   ]
  },
  {
   "cell_type": "code",
   "execution_count": 33,
   "id": "e15d99f6",
   "metadata": {},
   "outputs": [
    {
     "data": {
      "text/plain": [
       "('К', 'н')"
      ]
     },
     "execution_count": 33,
     "metadata": {},
     "output_type": "execute_result"
    }
   ],
   "source": [
    "surname [0], surname [-1:]"
   ]
  },
  {
   "cell_type": "code",
   "execution_count": 32,
   "id": "c9ba63e8",
   "metadata": {},
   "outputs": [
    {
     "data": {
      "text/plain": [
       "6"
      ]
     },
     "execution_count": 32,
     "metadata": {},
     "output_type": "execute_result"
    }
   ],
   "source": [
    "len (surname)"
   ]
  },
  {
   "cell_type": "code",
   "execution_count": 36,
   "id": "2734877a",
   "metadata": {},
   "outputs": [],
   "source": [
    "s = 'Antananarivo'\n",
    "count_a = s.count ('a') + s.count ('A')"
   ]
  },
  {
   "cell_type": "code",
   "execution_count": 37,
   "id": "b4937c82",
   "metadata": {},
   "outputs": [
    {
     "name": "stdout",
     "output_type": "stream",
     "text": [
      "4\n"
     ]
    }
   ],
   "source": [
    "print (count_a)"
   ]
  },
  {
   "cell_type": "code",
   "execution_count": 42,
   "id": "2310372c",
   "metadata": {},
   "outputs": [],
   "source": [
    "my_string = 'The quick brown fox jumps over the lazy dog!!!'"
   ]
  },
  {
   "cell_type": "code",
   "execution_count": 44,
   "id": "eaab9f77",
   "metadata": {},
   "outputs": [
    {
     "name": "stdout",
     "output_type": "stream",
     "text": [
      "True\n",
      "False\n"
     ]
    }
   ],
   "source": [
    "print(my_string.startswith('The'))\n",
    "print(my_string.endswith('dog!'))"
   ]
  },
  {
   "cell_type": "code",
   "execution_count": 47,
   "id": "ca4cf4db",
   "metadata": {},
   "outputs": [
    {
     "name": "stdout",
     "output_type": "stream",
     "text": [
      "['The', 'quick', 'brown', 'fox', 'jumps', 'over', 'the', 'lazy', 'dog!!!']\n"
     ]
    }
   ],
   "source": [
    "print (my_string.split())"
   ]
  },
  {
   "cell_type": "code",
   "execution_count": 48,
   "id": "337d3c3e",
   "metadata": {},
   "outputs": [
    {
     "name": "stdout",
     "output_type": "stream",
     "text": [
      "The_quick_brown_fox_jumps_over_the_lazy_dog!!!\n"
     ]
    }
   ],
   "source": [
    "print('_'.join(['The', 'quick', 'brown', 'fox', 'jumps', 'over', 'the', 'lazy', 'dog!!!']))"
   ]
  },
  {
   "cell_type": "code",
   "execution_count": null,
   "id": "688c790d",
   "metadata": {},
   "outputs": [],
   "source": []
  }
 ],
 "metadata": {
  "kernelspec": {
   "display_name": "Python 3 (ipykernel)",
   "language": "python",
   "name": "python3"
  },
  "language_info": {
   "codemirror_mode": {
    "name": "ipython",
    "version": 3
   },
   "file_extension": ".py",
   "mimetype": "text/x-python",
   "name": "python",
   "nbconvert_exporter": "python",
   "pygments_lexer": "ipython3",
   "version": "3.11.5"
  }
 },
 "nbformat": 4,
 "nbformat_minor": 5
}
