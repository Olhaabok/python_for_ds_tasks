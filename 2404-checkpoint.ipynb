{
 "cells": [
  {
   "cell_type": "code",
   "execution_count": 1,
   "id": "3fe2b85a",
   "metadata": {},
   "outputs": [],
   "source": [
    "# синтаксис python"
   ]
  },
  {
   "cell_type": "code",
   "execution_count": 4,
   "id": "abb0904b",
   "metadata": {},
   "outputs": [
    {
     "name": "stdout",
     "output_type": "stream",
     "text": [
      "5\n"
     ]
    }
   ],
   "source": [
    "apple = 5\n",
    "print(apple)"
   ]
  },
  {
   "cell_type": "code",
   "execution_count": 5,
   "id": "b4e0c122",
   "metadata": {},
   "outputs": [
    {
     "data": {
      "text/plain": [
       "int"
      ]
     },
     "execution_count": 5,
     "metadata": {},
     "output_type": "execute_result"
    }
   ],
   "source": [
    "type (apple)"
   ]
  },
  {
   "cell_type": "code",
   "execution_count": 6,
   "id": "214ddd5e",
   "metadata": {},
   "outputs": [
    {
     "name": "stdout",
     "output_type": "stream",
     "text": [
      "17\n"
     ]
    }
   ],
   "source": [
    "apple = apple + 12\n",
    "print (apple)"
   ]
  },
  {
   "cell_type": "code",
   "execution_count": 7,
   "id": "5fc0a28a",
   "metadata": {},
   "outputs": [],
   "source": [
    "a = 48\n",
    "b = 3"
   ]
  },
  {
   "cell_type": "code",
   "execution_count": 11,
   "id": "0a1d8f25",
   "metadata": {},
   "outputs": [
    {
     "data": {
      "text/plain": [
       "(int, int, float)"
      ]
     },
     "execution_count": 11,
     "metadata": {},
     "output_type": "execute_result"
    }
   ],
   "source": [
    "type (a), type (b), type (c)"
   ]
  },
  {
   "cell_type": "code",
   "execution_count": 8,
   "id": "8ceec4e1",
   "metadata": {},
   "outputs": [],
   "source": [
    "c = a / b"
   ]
  },
  {
   "cell_type": "code",
   "execution_count": 9,
   "id": "600644c8",
   "metadata": {},
   "outputs": [
    {
     "name": "stdout",
     "output_type": "stream",
     "text": [
      "16.0\n"
     ]
    }
   ],
   "source": [
    "print (c)"
   ]
  },
  {
   "cell_type": "code",
   "execution_count": 12,
   "id": "98336660",
   "metadata": {},
   "outputs": [
    {
     "data": {
      "text/plain": [
       "38"
      ]
     },
     "execution_count": 12,
     "metadata": {},
     "output_type": "execute_result"
    }
   ],
   "source": [
    "a = 10\n",
    "a = 12\n",
    "a = 15\n",
    "\n",
    "b = 4\n",
    "b = 8\n",
    "b = 14\n",
    "\n",
    "c = 3\n",
    "c = 6\n",
    "c = 9\n",
    "\n",
    "a + b + c"
   ]
  },
  {
   "cell_type": "code",
   "execution_count": 13,
   "id": "b096132c",
   "metadata": {},
   "outputs": [
    {
     "data": {
      "text/plain": [
       "17"
      ]
     },
     "execution_count": 13,
     "metadata": {},
     "output_type": "execute_result"
    }
   ],
   "source": [
    "a = 10\n",
    "#a = 12\n",
    "#a = 15\n",
    "\n",
    "b = 4\n",
    "#b = 8\n",
    "#b = 14\n",
    "\n",
    "c = 3\n",
    "#c = 6\n",
    "#c = 9\n",
    "\n",
    "a + b + c"
   ]
  },
  {
   "cell_type": "code",
   "execution_count": null,
   "id": "fc332727",
   "metadata": {},
   "outputs": [],
   "source": []
  }
 ],
 "metadata": {
  "kernelspec": {
   "display_name": "Python 3 (ipykernel)",
   "language": "python",
   "name": "python3"
  },
  "language_info": {
   "codemirror_mode": {
    "name": "ipython",
    "version": 3
   },
   "file_extension": ".py",
   "mimetype": "text/x-python",
   "name": "python",
   "nbconvert_exporter": "python",
   "pygments_lexer": "ipython3",
   "version": "3.11.5"
  }
 },
 "nbformat": 4,
 "nbformat_minor": 5
}
