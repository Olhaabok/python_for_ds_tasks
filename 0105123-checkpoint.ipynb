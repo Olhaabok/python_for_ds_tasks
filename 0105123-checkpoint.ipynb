{
 "cells": [
  {
   "cell_type": "code",
   "execution_count": 2,
   "id": "f4fe3498",
   "metadata": {},
   "outputs": [],
   "source": [
    "# Словники, набори, кортежі"
   ]
  },
  {
   "cell_type": "code",
   "execution_count": 3,
   "id": "69ba1200",
   "metadata": {},
   "outputs": [],
   "source": [
    "new_list = [22, 11, 67, 11, 88, 3213, 12, 78, 67, 11, 16, 15, 88]"
   ]
  },
  {
   "cell_type": "code",
   "execution_count": 7,
   "id": "094d0ace",
   "metadata": {},
   "outputs": [],
   "source": [
    "s = {22, 11, 67, 11, 88, 3213, 12, 78, 67, 11, 16, 15, 88} #набір відсортувався в порядку зростання, елементи які повторюються не включилися"
   ]
  },
  {
   "cell_type": "code",
   "execution_count": 6,
   "id": "79616d2e",
   "metadata": {},
   "outputs": [
    {
     "data": {
      "text/plain": [
       "{11, 12, 15, 16, 22, 67, 78, 88, 3213}"
      ]
     },
     "execution_count": 6,
     "metadata": {},
     "output_type": "execute_result"
    }
   ],
   "source": [
    "s"
   ]
  },
  {
   "cell_type": "code",
   "execution_count": 8,
   "id": "df7eb44c",
   "metadata": {},
   "outputs": [],
   "source": [
    "set_a = {121, 144, 177, 199}\n",
    "new_value = 88"
   ]
  },
  {
   "cell_type": "code",
   "execution_count": 9,
   "id": "f5ead3d5",
   "metadata": {},
   "outputs": [],
   "source": [
    "set_a.add (new_value)"
   ]
  },
  {
   "cell_type": "code",
   "execution_count": 10,
   "id": "8a155fc5",
   "metadata": {},
   "outputs": [
    {
     "data": {
      "text/plain": [
       "{88, 121, 144, 177, 199}"
      ]
     },
     "execution_count": 10,
     "metadata": {},
     "output_type": "execute_result"
    }
   ],
   "source": [
    "set_a"
   ]
  },
  {
   "cell_type": "code",
   "execution_count": 11,
   "id": "6c8289f0",
   "metadata": {},
   "outputs": [],
   "source": [
    "set1 = {1, 2, 3, 4, 5, 10, 15, 20}\n",
    "set2 = {4, 5, 6, 7, 8, 15, 20, 25}\n",
    "set3 = {7, 8, 9, 10, 11, 20, 25, 30}"
   ]
  },
  {
   "cell_type": "code",
   "execution_count": 12,
   "id": "3189f537",
   "metadata": {},
   "outputs": [
    {
     "name": "stdout",
     "output_type": "stream",
     "text": [
      "result_set {1, 2, 3, 4, 5, 6, 7, 8, 9, 10, 11, 15, 20, 25, 30}\n"
     ]
    }
   ],
   "source": [
    "print(\"result_set\", set1.union(set2).union(set3)) "
   ]
  },
  {
   "cell_type": "code",
   "execution_count": 13,
   "id": "279ffed6",
   "metadata": {},
   "outputs": [],
   "source": [
    "# Завдання 4. Практика на роботу з словниками"
   ]
  },
  {
   "cell_type": "code",
   "execution_count": 14,
   "id": "193ad440",
   "metadata": {},
   "outputs": [],
   "source": [
    "new_dict = {}"
   ]
  },
  {
   "cell_type": "code",
   "execution_count": 25,
   "id": "3e2d340c",
   "metadata": {},
   "outputs": [],
   "source": [
    "new_dict = {'Ann':8, 'Mike':10, 'Cristina':6, 'Olha':11, 'Alex':12}"
   ]
  },
  {
   "cell_type": "code",
   "execution_count": 26,
   "id": "b3e2e204",
   "metadata": {},
   "outputs": [
    {
     "data": {
      "text/plain": [
       "{'Ann': 8, 'Mike': 10, 'Cristina': 6, 'Olha': 11, 'Alex': 12}"
      ]
     },
     "execution_count": 26,
     "metadata": {},
     "output_type": "execute_result"
    }
   ],
   "source": [
    "new_dict"
   ]
  },
  {
   "cell_type": "code",
   "execution_count": 27,
   "id": "74c57c00",
   "metadata": {},
   "outputs": [],
   "source": [
    "new_dict['Helen'] = 9"
   ]
  },
  {
   "cell_type": "code",
   "execution_count": 29,
   "id": "cc5ccda3",
   "metadata": {},
   "outputs": [
    {
     "data": {
      "text/plain": [
       "{'Ann': 8, 'Mike': 10, 'Cristina': 6, 'Olha': 11, 'Alex': 12, 'Helen': 9}"
      ]
     },
     "execution_count": 29,
     "metadata": {},
     "output_type": "execute_result"
    }
   ],
   "source": [
    "new_dict"
   ]
  },
  {
   "cell_type": "code",
   "execution_count": 31,
   "id": "52404e30",
   "metadata": {},
   "outputs": [
    {
     "data": {
      "text/plain": [
       "11"
      ]
     },
     "execution_count": 31,
     "metadata": {},
     "output_type": "execute_result"
    }
   ],
   "source": [
    "new_dict['Olha']"
   ]
  },
  {
   "cell_type": "code",
   "execution_count": 32,
   "id": "f63641ca",
   "metadata": {},
   "outputs": [],
   "source": [
    "#Завдання 5"
   ]
  },
  {
   "cell_type": "code",
   "execution_count": 33,
   "id": "84863066",
   "metadata": {},
   "outputs": [],
   "source": [
    "my_tuple = (11, 12, 13, 14, 15)"
   ]
  },
  {
   "cell_type": "code",
   "execution_count": 35,
   "id": "24b6a641",
   "metadata": {},
   "outputs": [
    {
     "ename": "AttributeError",
     "evalue": "'tuple' object has no attribute 'insert'",
     "output_type": "error",
     "traceback": [
      "\u001b[1;31m---------------------------------------------------------------------------\u001b[0m",
      "\u001b[1;31mAttributeError\u001b[0m                            Traceback (most recent call last)",
      "Cell \u001b[1;32mIn[35], line 1\u001b[0m\n\u001b[1;32m----> 1\u001b[0m my_tuple\u001b[38;5;241m.\u001b[39minsert(\u001b[38;5;241m22\u001b[39m, \u001b[38;5;241m2\u001b[39m)\n",
      "\u001b[1;31mAttributeError\u001b[0m: 'tuple' object has no attribute 'insert'"
     ]
    }
   ],
   "source": [
    "my_tuple.insert(22, 2)"
   ]
  },
  {
   "cell_type": "code",
   "execution_count": 47,
   "id": "7dceda3f",
   "metadata": {},
   "outputs": [],
   "source": [
    "my_list = list(my_tuple)"
   ]
  },
  {
   "cell_type": "code",
   "execution_count": 48,
   "id": "c805d023",
   "metadata": {},
   "outputs": [
    {
     "name": "stdout",
     "output_type": "stream",
     "text": [
      "[11, 12, 13, 14, 15]\n"
     ]
    }
   ],
   "source": [
    "print(my_list)"
   ]
  },
  {
   "cell_type": "code",
   "execution_count": 49,
   "id": "f691e283",
   "metadata": {},
   "outputs": [],
   "source": [
    "my_list.insert(2, 22)"
   ]
  },
  {
   "cell_type": "code",
   "execution_count": 50,
   "id": "c1118558",
   "metadata": {},
   "outputs": [
    {
     "name": "stdout",
     "output_type": "stream",
     "text": [
      "[11, 12, 22, 13, 14, 15]\n"
     ]
    }
   ],
   "source": [
    "print(my_list)"
   ]
  },
  {
   "cell_type": "code",
   "execution_count": 51,
   "id": "aea95146",
   "metadata": {},
   "outputs": [],
   "source": [
    "modified_tuple = tuple(my_list)"
   ]
  },
  {
   "cell_type": "code",
   "execution_count": 52,
   "id": "6665b5bc",
   "metadata": {},
   "outputs": [
    {
     "name": "stdout",
     "output_type": "stream",
     "text": [
      "(11, 12, 22, 13, 14, 15)\n"
     ]
    }
   ],
   "source": [
    "print(modified_tuple)"
   ]
  },
  {
   "cell_type": "code",
   "execution_count": null,
   "id": "440ae8c4",
   "metadata": {},
   "outputs": [],
   "source": []
  }
 ],
 "metadata": {
  "kernelspec": {
   "display_name": "Python 3 (ipykernel)",
   "language": "python",
   "name": "python3"
  },
  "language_info": {
   "codemirror_mode": {
    "name": "ipython",
    "version": 3
   },
   "file_extension": ".py",
   "mimetype": "text/x-python",
   "name": "python",
   "nbconvert_exporter": "python",
   "pygments_lexer": "ipython3",
   "version": "3.11.5"
  }
 },
 "nbformat": 4,
 "nbformat_minor": 5
}
